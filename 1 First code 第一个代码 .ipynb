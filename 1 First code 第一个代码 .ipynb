{
 "cells": [
  {
   "cell_type": "markdown",
   "metadata": {},
   "source": [
    "# My first Python source code 我的第一个 Python 程序"
   ]
  },
  {
   "cell_type": "code",
   "execution_count": 1,
   "metadata": {},
   "outputs": [
    {
     "name": "stdout",
     "output_type": "stream",
     "text": [
      "My first Python source code 我的第一个 Python 程序\n"
     ]
    }
   ],
   "source": [
    "print(\"My first Python source code 我的第一个 Python 程序\")"
   ]
  },
  {
   "cell_type": "markdown",
   "metadata": {},
   "source": [
    "# 写在前面的话\n",
    "将在这里进行不定期的灌溉专业上使用的Python 教学，先进行简单的语言学习，再推出从工程设计到智慧灌溉的全套Python语言代码。"
   ]
  },
  {
   "cell_type": "markdown",
   "metadata": {},
   "source": [
    "## 1. Python 变量"
   ]
  },
  {
   "cell_type": "code",
   "execution_count": 2,
   "metadata": {},
   "outputs": [
    {
     "name": "stdout",
     "output_type": "stream",
     "text": [
      "S 面积= 67932.0\n",
      "Aear 圆面积= 0.78539815\n"
     ]
    }
   ],
   "source": [
    "# 矩形面积计算\n",
    "Length=204.0\n",
    "Highth=333.0\n",
    "S=Length*Highth\n",
    "print(\"S 面积=\",S)\n",
    "\n",
    "\"\"\"圆的面积计算\"\"\"\n",
    "\n",
    "Diameter=1.0\n",
    "Aear=3.1415926*Diameter*Diameter/4\n",
    "\n",
    "print(\"Aear 圆面积=\",Aear)\n"
   ]
  },
  {
   "cell_type": "code",
   "execution_count": 3,
   "metadata": {},
   "outputs": [
    {
     "name": "stdout",
     "output_type": "stream",
     "text": [
      "Irrigation Area is 灌溉面积是： 67932.0\n"
     ]
    }
   ],
   "source": [
    "Str1=\"Irrigation Area is\"\n",
    "Str2=\"灌溉面积是：\"\n",
    "print(Str1+\" \"+Str2,S)"
   ]
  },
  {
   "cell_type": "code",
   "execution_count": 4,
   "metadata": {},
   "outputs": [
    {
     "name": "stdout",
     "output_type": "stream",
     "text": [
      "<class 'float'>\n",
      "<class 'str'>\n"
     ]
    }
   ],
   "source": [
    "print(type(Length))\n",
    "\n",
    "print(type(Str1))"
   ]
  },
  {
   "cell_type": "code",
   "execution_count": 5,
   "metadata": {},
   "outputs": [
    {
     "name": "stdout",
     "output_type": "stream",
     "text": [
      "<class 'bool'>\n"
     ]
    }
   ],
   "source": [
    "learn_python=True\n",
    "learn_fortran=False\n",
    "\n",
    "print(type(learn_python))"
   ]
  },
  {
   "cell_type": "markdown",
   "metadata": {},
   "source": [
    "## variable names are case sensitive"
   ]
  },
  {
   "cell_type": "code",
   "execution_count": 6,
   "metadata": {},
   "outputs": [
    {
     "name": "stdout",
     "output_type": "stream",
     "text": [
      "A_int_number is:  10\n",
      "<class 'int'>\n"
     ]
    }
   ],
   "source": [
    "a_int_number=10\n",
    "A_int_number=5\n",
    "\n",
    "print(\"A_int_number is: \",a_int_number)\n",
    "print(type(a_int_number))\n",
    "\n"
   ]
  }
 ],
 "metadata": {
  "kernelspec": {
   "display_name": "Python 3.9.7 ('base')",
   "language": "python",
   "name": "python3"
  },
  "language_info": {
   "codemirror_mode": {
    "name": "ipython",
    "version": 3
   },
   "file_extension": ".py",
   "mimetype": "text/x-python",
   "name": "python",
   "nbconvert_exporter": "python",
   "pygments_lexer": "ipython3",
   "version": "3.9.7"
  },
  "orig_nbformat": 4,
  "vscode": {
   "interpreter": {
    "hash": "6b81a710c569b9b4ceff85d072a465cd2759d5ca37d101a6f26f29dbd0976c07"
   }
  }
 },
 "nbformat": 4,
 "nbformat_minor": 2
}
