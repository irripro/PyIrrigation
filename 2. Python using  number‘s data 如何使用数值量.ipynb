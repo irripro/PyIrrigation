{
 "cells": [
  {
   "cell_type": "code",
   "execution_count": 2,
   "metadata": {},
   "outputs": [
    {
     "name": "stdout",
     "output_type": "stream",
     "text": [
      "area is: 310.31095000000005\n",
      "area rounded to 2 decimal place: 310.31\n",
      "3\n",
      "0.5\n",
      "2\n",
      "16\n",
      "18\n",
      "48\n",
      "<class 'float'>\n",
      "0.0023\n",
      "<class 'int'>\n",
      "18\n",
      "<class 'int'>\n",
      "<class 'complex'>\n",
      "(5-1j)\n",
      "101\n",
      "0.2999999999999998\n"
     ]
    }
   ],
   "source": [
    "\"\"\"# 1. Use python to find area of triangle\n",
    "# area = (1/2)*base*height  计算三角形的面积\"\"\"\n",
    "base=30.23\n",
    "height=20.53\n",
    "area=(1/2)*base*height\n",
    "print(\"area is:\",area) # area is: 310.31095000000005\n",
    "# to show area till 2 decimal places\n",
    "print(\"area rounded to 2 decimal place:\",round(area,2)) # 105.53\n",
    "\n",
    "# 2. basic airthmetic using numbers 对数的认识\n",
    "print(1+2) # 3\n",
    "print(1/2) # 0.5\n",
    "print(14%3) # 2\n",
    "print(4**2) # 16\n",
    "print(12+2*3) # 18\n",
    "print((14+2)*3) # 48\n",
    "\n",
    "# 3. Number data types (int, float, complex numbers) 数的类型\n",
    "print(type(area)) # float\n",
    "foo=2.3e-3\n",
    "print(foo) # 0.0023\n",
    "print(type(1)) # int\n",
    "print(0x12) # 18\n",
    "print(type(0x12)) # int\n",
    "c1=2+3j\n",
    "print(type(c1)) # complex\n",
    "c2=3-4j\n",
    "print(c1+c2) # 5-j\n",
    "\n",
    "# 4. Internal representation of numbers 数的内部表示\n",
    "# (a) integers are stored in simple binary format 数的二进制形式\n",
    "print(format(5,'b')) # 4 bytes (or 32 bits), visual of binary presentation  5 的二进制表示\n",
    "# (b) floats use IEEE754 standard : https://en.wikipedia.org/wiki/IEEE_754  使用IEEE754标准的浮点数\n",
    "print(6-5.7) # this prints 0.29999999 and not 0.3. why? Due to IEEE 754 standard 打印的是0.29999999，而不是0.3。为什么？因为依据了 IEEE 754标准"
   ]
  }
 ],
 "metadata": {
  "kernelspec": {
   "display_name": "Python 3.9.7 64-bit",
   "language": "python",
   "name": "python3"
  },
  "language_info": {
   "codemirror_mode": {
    "name": "ipython",
    "version": 3
   },
   "file_extension": ".py",
   "mimetype": "text/x-python",
   "name": "python",
   "nbconvert_exporter": "python",
   "pygments_lexer": "ipython3",
   "version": "3.9.7"
  },
  "orig_nbformat": 4,
  "vscode": {
   "interpreter": {
    "hash": "6fff98fc3b3d81bd655c2cc48858186e4d9e2db7b515bf1c3221888f12a62f87"
   }
  }
 },
 "nbformat": 4,
 "nbformat_minor": 2
}
