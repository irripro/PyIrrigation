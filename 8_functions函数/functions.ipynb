{
 "cells": [
  {
   "cell_type": "code",
   "execution_count": 1,
   "metadata": {},
   "outputs": [
    {
     "name": "stdout",
     "output_type": "stream",
     "text": [
      "Total 图表总计: 95\n",
      "Total 分类总计: 146\n",
      "Total 总计: 95\n",
      "Total 分类总计: 146\n",
      "Help on function find_total in module __main__:\n",
      "\n",
      "find_total(exp)\n",
      "    This function takes list of numbers as input and returns sum of that list\n",
      "    :param exp: input list\n",
      "    :return: total sum\n",
      "\n",
      "None\n",
      "radius is: 5\n",
      "height is: 10\n",
      "785.0\n",
      "radius is: 5\n",
      "height is: 1\n",
      "78.5\n"
     ]
    }
   ],
   "source": [
    "# Calculate expense sum for two lists without function\n",
    "#计算两个没有函数的列表的费用总和\n",
    "chart_expenses = [20,30,45]\n",
    "classification_expenses = [45,67,34]\n",
    "\n",
    "total=0\n",
    "for item in chart_expenses:\n",
    "    total+=item\n",
    "print(\"Total 图表总计:\",total)\n",
    "\n",
    "total=0\n",
    "for item in classification_expenses:\n",
    "    total+=item\n",
    "print(\"Total 分类总计:\",total)\n",
    "\n",
    "# Calculate expense sum for two lists by using a function\n",
    "def find_total(exp):\n",
    "    '''\n",
    "    This function takes list of numbers as input and returns sum of that list\n",
    "    :param exp: input list\n",
    "    :return: total sum\n",
    "    '''\n",
    "    total=0\n",
    "    for item in exp:\n",
    "        total+=item\n",
    "    return total\n",
    "\n",
    "_total=find_total(chart_expenses)\n",
    "print(\"Total 总计:\",_total)\n",
    "\n",
    "_total=find_total(classification_expenses)\n",
    "print(\"Total 分类总计:\",_total)\n",
    "\n",
    "# Explain argument, return value, function body with visuals\n",
    "\n",
    "# documentation strings\n",
    "print(help(find_total))\n",
    "\n",
    "# Positional argument vs named arguments\n",
    "def cylinder_volume(radius,height=1):\n",
    "    print(\"radius is:\",radius)\n",
    "    print(\"height is:\",height)\n",
    "    area = 3.14*(radius**2)*height\n",
    "    return area\n",
    "\n",
    "r=5\n",
    "h=10\n",
    "print(cylinder_volume(height=h,radius=r))\n",
    "\n",
    "# default arguments\n",
    "r=5\n",
    "h=10\n",
    "print(cylinder_volume(radius=r))\n",
    "\n",
    "# global vs local variables\n"
   ]
  }
 ],
 "metadata": {
  "kernelspec": {
   "display_name": "Python 3.9.7 64-bit",
   "language": "python",
   "name": "python3"
  },
  "language_info": {
   "codemirror_mode": {
    "name": "ipython",
    "version": 3
   },
   "file_extension": ".py",
   "mimetype": "text/x-python",
   "name": "python",
   "nbconvert_exporter": "python",
   "pygments_lexer": "ipython3",
   "version": "3.9.7"
  },
  "orig_nbformat": 4,
  "vscode": {
   "interpreter": {
    "hash": "6fff98fc3b3d81bd655c2cc48858186e4d9e2db7b515bf1c3221888f12a62f87"
   }
  }
 },
 "nbformat": 4,
 "nbformat_minor": 2
}
