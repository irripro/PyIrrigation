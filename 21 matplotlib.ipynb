{
 "cells": [
  {
   "cell_type": "markdown",
   "metadata": {},
   "source": [
    "# 引入matlibplot库  Python程序引\n",
    "plt.figure()\n",
    "figure(num=None, figsize=None)\n",
    "\n",
    "num:编号或名字\n",
    "figsize:图片大小（单位英寸）"
   ]
  },
  {
   "cell_type": "code",
   "execution_count": 1,
   "metadata": {},
   "outputs": [
    {
     "name": "stdout",
     "output_type": "stream",
     "text": [
      "My first Python source code 我的第一个 Python 程序\n"
     ]
    }
   ],
   "source": [
    "import matplotlib.pyplot as plt\n",
    "import numpy as np\n"
   ]
  },
  {
   "cell_type": "markdown",
   "metadata": {},
   "source": [
    "## 创建数据"
   ]
  },
  {
   "cell_type": "code",
   "execution_count": 2,
   "metadata": {},
   "outputs": [
    {
     "name": "stdout",
     "output_type": "stream",
     "text": [
      "S 面积= 67932.0\n",
      "Aear 圆面积= 0.78539815\n"
     ]
    }
   ],
   "source": [
    "x = np.linspace(-3, 3, 500)\n",
    "y1 = x ** 2 + 2 + x\n",
    "y2 = 4 * x + 1\n"
   ]
  },
  {
   "cell_type": "code",
   "execution_count": 3,
   "metadata": {},
   "outputs": [
    {
     "name": "stdout",
     "output_type": "stream",
     "text": [
      "Irrigation Area is 灌溉面积是： 67932.0\n"
     ]
    }
   ],
   "source": [
    "l1, = plt.plot(x, y1, color='r',\n",
    "                linewidth=1.0,\n",
    "                linestyle='--',\n",
    "                label='down')\n",
    "l2, = plt.plot(x, y2,label='up')\n"
   ]
  },
  {
   "cell_type": "markdown",
   "metadata": {},
   "source": [
    "前面加不加都可以，加上是个默认参数留在图例的时候用\n",
    "参数介绍：\n",
    "\n",
    "x,y:两个等长的序列表示坐标然后连起来\n",
    "color：颜色\n",
    "linewideh：线宽\n",
    "linestyle：线型\n",
    "label：默认图例\n",
    "坐标轴限制limit"
   ]
  },
  {
   "cell_type": "code",
   "execution_count": 4,
   "metadata": {},
   "outputs": [
    {
     "name": "stdout",
     "output_type": "stream",
     "text": [
      "<class 'float'>\n",
      "<class 'str'>\n"
     ]
    }
   ],
   "source": [
    "plt.xlim((-1, 3))\n",
    "plt.ylim((-2, 15))\n"
   ]
  },
  {
   "cell_type": "markdown",
   "metadata": {},
   "source": [
    "限制左右上下范围\n",
    "\n",
    "坐标轴名字label"
   ]
  },
  {
   "cell_type": "code",
   "execution_count": 5,
   "metadata": {},
   "outputs": [
    {
     "name": "stdout",
     "output_type": "stream",
     "text": [
      "<class 'bool'>\n"
     ]
    }
   ],
   "source": [
    "plt.xlabel('i am x')\n",
    "plt.ylabel('i am y')\n"
   ]
  },
  {
   "cell_type": "markdown",
   "metadata": {},
   "source": [
    "## 坐标轴名字自由选择ticks\n",
    "这是我认为比matlab更好用的一个地方"
   ]
  },
  {
   "cell_type": "code",
   "execution_count": 6,
   "metadata": {},
   "outputs": [
    {
     "name": "stdout",
     "output_type": "stream",
     "text": [
      "A_int_number is:  10\n",
      "<class 'int'>\n"
     ]
    }
   ],
   "source": [
    "plt.xticks(np.linspace(-1, 3, 5))\n",
    "plt.yticks([-1, 2, 4, 8, 11], ['E', 'D', 'C', 'B', 'A'])\n",
    "\n"
   ]
  },
  {
   "cell_type": "markdown",
   "metadata": {},
   "source": [
    "两种主要的方法\n",
    "\n",
    "直接自由分割几个点做标注\n",
    "用两个等长的list作等位置的替换\n",
    "\n",
    "## 边框plt.gca()&&选择(0,0)为坐标轴原点"
   ]
  },
  {
   "cell_type": "code",
   "execution_count": null,
   "metadata": {},
   "outputs": [],
   "source": [
    "gca : get current axis\n",
    "ax.spines['right'].set_color('none')\n",
    "ax.spines['top'].set_color('none')\n",
    "\n",
    "ax.xaxis.set_ticks_position('bottom')\n",
    "ax.yaxis.set_ticks_position('left')\n",
    "ax.spines['bottom'].set_position(('data',0))\n",
    "ax.spines['left'].set_position(('data',0))\n"
   ]
  },
  {
   "cell_type": "markdown",
   "metadata": {},
   "source": [
    "设置右边和上面边框格式为空\n",
    "定位左边和下面边框为选定的边框\n",
    "设置左边和下边的坐标轴为(0,0),选定数据为‘data’\n",
    "\n",
    "### plt.legend()图例\n",
    "简单写法为："
   ]
  },
  {
   "cell_type": "code",
   "execution_count": null,
   "metadata": {},
   "outputs": [],
   "source": [
    "plt.legend(labels=[],loc='best')\n"
   ]
  },
  {
   "cell_type": "markdown",
   "metadata": {},
   "source": [
    "理解为上面画图参数为构造函数的默认参数，这个是构造函数，传入的参数可覆盖过去的图例信息\n",
    "位置信息为loc，一般选用best"
   ]
  },
  {
   "cell_type": "code",
   "execution_count": null,
   "metadata": {},
   "outputs": [],
   "source": [
    "plt.legend(handles=[l1, l2,], labels=['n', 'm'], loc='best')\n"
   ]
  },
  {
   "cell_type": "markdown",
   "metadata": {},
   "source": [
    "第一个参数为选择性显示\n",
    "\n",
    "### 确定点到下方x轴的垂直线"
   ]
  },
  {
   "cell_type": "code",
   "execution_count": null,
   "metadata": {},
   "outputs": [],
   "source": [
    "x0 = 1\n",
    "y0 = 4 * x0 + 1\n",
    "plt.scatter(x0, y0, s=50, color='g')\n",
    "plt.plot([x0, x0], [0, y0], 'k--', lw=2)\n"
   ]
  },
  {
   "cell_type": "markdown",
   "metadata": {},
   "source": [
    "确认xy点之后画出点，之后画直线，[x0, x0], [0, y0]，相当于是作轴的垂直线，lw是线宽的简写\n",
    "\n",
    "### 某点标注plt.annotate()"
   ]
  },
  {
   "cell_type": "code",
   "execution_count": null,
   "metadata": {},
   "outputs": [],
   "source": [
    "plt.annotate('2x+1=%s' % y0, xy=(x0, y0),\n",
    "            xycoords='data',\n",
    "            xytext=(30,-30),\n",
    "            textcoords='offset points',\n",
    "            fontsize=16,\n",
    "            arrowprops=dict(arrowstyle='->',\n",
    "                            connectionstyle=\"arc3,rad=.2\"))\n"
   ]
  },
  {
   "cell_type": "markdown",
   "metadata": {},
   "source": [
    "参数先输入要填写的东西，之后xy是坐标，xycoords是说基于数据的值来选位置\n",
    "xytext表示显示的点的偏移值（肯定不能选择在图像上面写东西除非确实要这样做）\n",
    "最后是对箭头的表述\n",
    "\n",
    "### text文本添加plt.text()"
   ]
  },
  {
   "cell_type": "code",
   "execution_count": null,
   "metadata": {},
   "outputs": [],
   "source": [
    "plt.text(-1, 3, r'$it\\ is\\ annotation\\ !$',\n",
    "        # fontproperties = 'SimHei',\n",
    "        fontdict={'size': 16, 'color': 'r'})\n"
   ]
  },
  {
   "cell_type": "markdown",
   "metadata": {},
   "source": [
    "前面两个是坐标位置，最后fondict是表示字体说明\n",
    "\n",
    "## 最终代码"
   ]
  },
  {
   "cell_type": "code",
   "execution_count": 1,
   "metadata": {},
   "outputs": [
    {
     "data": {
      "text/plain": [
       "Text(-1, 3, '$it\\\\ is\\\\ annotation\\\\ !$')"
      ]
     },
     "execution_count": 1,
     "metadata": {},
     "output_type": "execute_result"
    },
    {
     "data": {
      "image/png": "[encoded data removed]",
      "text/plain": [
       "<Figure size 800x500 with 1 Axes>"
      ]
     },
     "metadata": {},
     "output_type": "display_data"
    }
   ],
   "source": [
    "import matplotlib.pyplot as plt\n",
    "import numpy as np\n",
    "plt.figure(num=1,figsize=(8,5),)\n",
    "x = np.linspace(-3, 3, 500)\n",
    "y1 = x ** 2 + 2 + x\n",
    "y2 = 4 * x + 1\n",
    "l1, = plt.plot(x, y1, color='r',\n",
    "                linewidth=1.0,\n",
    "                linestyle='--',\n",
    "                label='down')\n",
    "l2, = plt.plot(x, y2,label='up')\n",
    "plt.xlim((-1, 3))\n",
    "plt.ylim((-2, 15))\n",
    "plt.xlabel('i am x')\n",
    "plt.ylabel('i am y')\n",
    "\n",
    "plt.xticks(np.linspace(-1, 3, 5))\n",
    "plt.yticks([-1, 2, 4, 8, 11], ['E', 'D', 'C', 'B', 'A'])\n",
    "\n",
    "ax = plt.gca()\n",
    "ax.spines['right'].set_color('none')\n",
    "ax.spines['top'].set_color('none')\n",
    "\n",
    "ax.xaxis.set_ticks_position('bottom')\n",
    "ax.yaxis.set_ticks_position('left')\n",
    "ax.spines['bottom'].set_position(('data',0))\n",
    "ax.spines['left'].set_position(('data',0))\n",
    "\n",
    "plt.legend(handles=[l1, l2,], labels=['n', 'm'], loc='best')\n",
    "\n",
    "\n",
    "x0 = 1\n",
    "y0 = 4 * x0 + 1\n",
    "plt.scatter(x0, y0, s=50, color='g')\n",
    "plt.plot([x0, x0], [0, y0], 'k--', lw=2)\n",
    "\n",
    "plt.annotate('2x+1=%s' % y0, xy=(x0, y0),\n",
    "            xycoords='data',\n",
    "            xytext=(30,-30),\n",
    "            textcoords='offset points',\n",
    "            fontsize=16,\n",
    "            arrowprops=dict(arrowstyle='->',\n",
    "                            connectionstyle=\"arc3,rad=.2\"))\n",
    "plt.text(-1, 3, r'$it\\ is\\ annotation\\ !$',\n",
    "        # fontproperties = 'SimHei',\n",
    "        fontdict={'size': 16, 'color': 'r'})\n",
    "\n"
   ]
  }
 ],
 "metadata": {
  "kernelspec": {
   "display_name": "Python 3.9.7 ('base')",
   "language": "python",
   "name": "python3"
  },
  "language_info": {
   "codemirror_mode": {
    "name": "ipython",
    "version": 3
   },
   "file_extension": ".py",
   "mimetype": "text/x-python",
   "name": "python",
   "nbconvert_exporter": "python",
   "pygments_lexer": "ipython3",
   "version": "3.9.7"
  },
  "orig_nbformat": 4,
  "vscode": {
   "interpreter": {
    "hash": "6b81a710c569b9b4ceff85d072a465cd2759d5ca37d101a6f26f29dbd0976c07"
   }
  }
 },
 "nbformat": 4,
 "nbformat_minor": 2
}
